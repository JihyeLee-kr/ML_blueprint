{
 "cells": [
  {
   "cell_type": "code",
   "execution_count": null,
   "metadata": {
    "collapsed": true
   },
   "outputs": [],
   "source": [
    "import pandas as pd\n",
    "import numpy as np"
   ]
  },
  {
   "cell_type": "markdown",
   "metadata": {},
   "source": [
    "## Selenium & PhantomJS 를 이용하여 Web Scraping "
   ]
  },
  {
   "cell_type": "code",
   "execution_count": null,
   "metadata": {
    "collapsed": true
   },
   "outputs": [],
   "source": [
    "# Web Scraping Tool - AJAX 기반 (비동기식 자바스크립트)\n",
    "from selenium import webdriver\n",
    "from selenium.webdriver.common.desired_capabilities import DesiredCapabilities\n",
    "from bs4 import BeautifulSoup"
   ]
  },
  {
   "cell_type": "code",
   "execution_count": null,
   "metadata": {
    "collapsed": true
   },
   "outputs": [],
   "source": [
    "import matplotlib.pyplot as plt\n",
    "%matplotlib inline"
   ]
  },
  {
   "cell_type": "code",
   "execution_count": null,
   "metadata": {},
   "outputs": [],
   "source": [
    "# Windows\n",
    "URL=\"https://www.google.com/flights/explore/#explore;f=JFK,EWR,LGA;t=HND,NRT,TPE,HKG,KIX;s=1;li=8;lx=12;d=2018-06-01\"\n",
    "PJS_PATH =\"C:\\\\Users\\\\Jihye Lee\\\\Desktop\\\\phantomjs-2.1.1-windows\\\\phantomjs-2.1.1-windows\\\\bin\\\\phantomjs.exe\"\n",
    "driver = webdriver.PhantomJS(PJS_PATH)\n",
    "dcap = dict(DesiredCapabilities.PHANTOMJS)\n",
    "dcap[\"phantomjs.page.settings.userAgent\"] = (\"Mozilla/5.0 (Macintosh; Intel Mac OS X 10_10_5) AppleWebKit/537.36 (KHTML, like Gecko) Chrome/46.0.2490.80 Safari/537.36\")\n",
    "driver = webdriver.PhantomJS(desired_capabilities=dcap, executable_path=PJS_PATH)\n",
    "driver.implicitly_wait(20)\n",
    "driver.get(URL)"
   ]
  },
  {
   "cell_type": "markdown",
   "metadata": {
    "collapsed": true
   },
   "source": [
    "### MAC\n",
    "url = \"https://www.google.com/flights/explore/#explore;f=JFK,EWR,LGA;t=HND,NRT,TPE,HKG,KIX;s=1;li=8;lx=12;d=2018-03-01\"\n",
    "#### PJS_PATH = \"/Applications/anaconda3/pkgs/phantomjs-2.1.1-0/bin\"\n",
    "driver = webdriver.PhantomJS()\n",
    "dcap = dict(DesiredCapabilities.PHANTOMJS)\n",
    "dcap[\"phantomjs.page.settings.userAgent\"] = (\"Mozilla/5.0 (Macintosh; Intel Mac OS X 10_10_5) AppleWebKit/537.36 (KHTML, like Gecko) Chrome/46.0.2490.80 Safari/537.36\")\n",
    "driver = webdriver.PhantomJS(desired_capabilities=dcap, service_args=['--ignore-ssl-errors=true'])\n",
    "driver.implicitly_wait(20)\n",
    "driver.get(url)"
   ]
  },
  {
   "cell_type": "code",
   "execution_count": null,
   "metadata": {},
   "outputs": [],
   "source": [
    "driver.save_screenshot(r'flight_explorer.png')"
   ]
  },
  {
   "cell_type": "markdown",
   "metadata": {},
   "source": [
    "## DOM 분석을 통한 가격 데이터 추출"
   ]
  },
  {
   "cell_type": "markdown",
   "metadata": {},
   "source": [
    "DOM: 웹페이지의 구조를 만드는 요소들의 집합\n",
    "(Body, div, class, id 등)"
   ]
  },
  {
   "cell_type": "code",
   "execution_count": null,
   "metadata": {
    "collapsed": true
   },
   "outputs": [],
   "source": [
    "s = BeautifulSoup(driver.page_source, \"lxml\")"
   ]
  },
  {
   "cell_type": "code",
   "execution_count": null,
   "metadata": {},
   "outputs": [],
   "source": [
    "s"
   ]
  },
  {
   "cell_type": "code",
   "execution_count": null,
   "metadata": {
    "collapsed": true
   },
   "outputs": [],
   "source": [
    "best_price_tags = s.findAll('div', 'CTPFVNB-w-e') \n",
    "best_prices = []\n",
    "for tag in best_price_tags:\n",
    "    best_prices.append(int(tag.text.replace('$','').replace(',','')))"
   ]
  },
  {
   "cell_type": "code",
   "execution_count": null,
   "metadata": {},
   "outputs": [],
   "source": [
    "best_price_tags"
   ]
  },
  {
   "cell_type": "code",
   "execution_count": null,
   "metadata": {},
   "outputs": [],
   "source": [
    "best_price = best_prices[0]\n",
    "best_price"
   ]
  },
  {
   "cell_type": "code",
   "execution_count": null,
   "metadata": {},
   "outputs": [],
   "source": [
    "best_height_tags = s.find_all('div', 'CTPFVNB-w-f')\n",
    "best_height_tags"
   ]
  },
  {
   "cell_type": "code",
   "execution_count": null,
   "metadata": {},
   "outputs": [],
   "source": [
    "best_height_tags = s.find_all('div', 'CTPFVNB-w-f')\n",
    "best_heights = []\n",
    "for tag in best_height_tags:\n",
    "    best_heights.append(float(tag.attrs['style'].split('height:')[1].replace('px;','')))\n",
    "    \n",
    "'''\n",
    "tag.attrs -> style: , height: (2개의 attribute로 구성)\n",
    "style 부분을 제외하고 height: 을 기준으로 나누어 2번째 text 가져오기\n",
    "px; 부분을 공백으로 바꾸기\n",
    "\n",
    "'''"
   ]
  },
  {
   "cell_type": "code",
   "execution_count": null,
   "metadata": {},
   "outputs": [],
   "source": [
    "best_height = best_heights[0]\n",
    "best_height"
   ]
  },
  {
   "cell_type": "code",
   "execution_count": null,
   "metadata": {},
   "outputs": [],
   "source": [
    "# Price per height\n",
    "pph = np.array(best_price)/np.array(best_height)\n",
    "pph"
   ]
  },
  {
   "cell_type": "code",
   "execution_count": null,
   "metadata": {},
   "outputs": [],
   "source": [
    "cities = s.findAll('div', 'CTPFVNB-w-o')\n",
    "len(cities)"
   ]
  },
  {
   "cell_type": "code",
   "execution_count": null,
   "metadata": {
    "collapsed": true
   },
   "outputs": [],
   "source": [
    "hlist=[]\n",
    "for bar in cities[0]\\\n",
    "    .findAll('div', 'CTPFVNB-w-x'):\n",
    "    hlist.append(float(bar['style']\\\n",
    "                       .split('height: ')[1].replace('px;',''))*pph)"
   ]
  },
  {
   "cell_type": "code",
   "execution_count": null,
   "metadata": {
    "collapsed": true
   },
   "outputs": [],
   "source": [
    "fares = pd.DataFrame(hlist, columns = ['price'])"
   ]
  },
  {
   "cell_type": "code",
   "execution_count": null,
   "metadata": {},
   "outputs": [],
   "source": [
    "fares.describe()"
   ]
  },
  {
   "cell_type": "code",
   "execution_count": null,
   "metadata": {},
   "outputs": [],
   "source": [
    "fig, ax = plt.subplots(figsize = (10, 6))\n",
    "plt.scatter(np.arange(len(fares['price'])), fares['price'])"
   ]
  },
  {
   "cell_type": "code",
   "execution_count": null,
   "metadata": {
    "collapsed": true
   },
   "outputs": [],
   "source": [
    "# Price 데이터프레임 설정 (무작위재정렬?)\n",
    "px = [x for x in fares['price']]\n",
    "ff = pd.DataFrame(px, columns = ['fare']).reset_index()"
   ]
  },
  {
   "cell_type": "code",
   "execution_count": null,
   "metadata": {
    "collapsed": true
   },
   "outputs": [],
   "source": [
    "from sklearn.cluster import DBSCAN\n",
    "from sklearn.preprocessing import StandardScaler"
   ]
  },
  {
   "cell_type": "code",
   "execution_count": null,
   "metadata": {
    "collapsed": true
   },
   "outputs": [],
   "source": [
    "X = StandardScaler().fit_transform(ff)\n",
    "db = DBSCAN(eps = 0.45, min_samples = 1).fit(X)"
   ]
  },
  {
   "cell_type": "code",
   "execution_count": null,
   "metadata": {},
   "outputs": [],
   "source": [
    "labels = db.labels_\n",
    "clusters = len(set(labels))\n",
    "unique_labels = set(labels)\n",
    "colors = plt.cm.Spectral(np.linspace(0, 1, len(unique_labels)))\n",
    "\n",
    "plt.subplots(figsize = (12, 8))\n",
    "for k, c in zip(unique_labels, colors):\n",
    "    class_member_mask = (labels == k)\n",
    "    xy = X[class_member_mask]\n",
    "    plt.plot(xy[:, 0], xy[:, 1], 'o',\n",
    "             markerfacecolor = c,\n",
    "             markeredgecolor = 'k',\n",
    "             markersize = 14)\n",
    "plt.title(\"Total Clusters: {}\".format(clusters), fontsize = 14, y = 1.01)\n"
   ]
  },
  {
   "cell_type": "markdown",
   "metadata": {},
   "source": [
    "## IFTTT를 이용해 실시간 알림 보내기"
   ]
  },
  {
   "cell_type": "markdown",
   "metadata": {},
   "source": [
    "- http://www.ifttt.com 계정 가입\n",
    "- Web hook 및 SMS 채널 가입\n",
    "- 'fare_alert' 메시지 설정"
   ]
  },
  {
   "cell_type": "markdown",
   "metadata": {},
   "source": [
    "### 하나로 결합하기"
   ]
  },
  {
   "cell_type": "code",
   "execution_count": null,
   "metadata": {
    "collapsed": true
   },
   "outputs": [],
   "source": [
    "import sys\n",
    "import pandas as pd\n",
    "import numpy as np\n",
    "import requests\n",
    "\n",
    "from selenium import webdriver\n",
    "from selenium.webdriver.common.desired_capabilities import DesiredCapabilities\n",
    "from selenium.webdriver.common.by import By\n",
    "\n",
    "from selenium.webdriver.support.ui import WebDriverWait\n",
    "from selenium.webdriver.support import expected_conditions as EC\n",
    "\n",
    "from bs4 import BeautifulSoup\n",
    "\n",
    "from sklearn.cluster import DBSCAN\n",
    "from sklearn.preprocessing import StandardScaler\n",
    "\n",
    "import schedule\n",
    "import time"
   ]
  },
  {
   "cell_type": "code",
   "execution_count": null,
   "metadata": {
    "collapsed": true
   },
   "outputs": [],
   "source": [
    "def check_flight():\n",
    "    URL=\"https://www.google.com/flights/explore/#explore;f=JFK,EWR,LGA;t=HND,NRT,TPE,HKG,KIX;s=1;li=8;lx=12;d=2018-06-01\"\n",
    "\n",
    "    PJS_PATH =\"C:\\\\Users\\\\Jihye Lee\\\\Desktop\\\\phantomjs-2.1.1-windows\\\\phantomjs-2.1.1-windows\\\\bin\\\\phantomjs.exe\"\n",
    "    driver = webdriver.PhantomJS(PJS_PATH)\n",
    "    dcap = dict(DesiredCapabilities.PHANTOMJS)\n",
    "    dcap[\"phantomjs.page.settings.userAgent\"] = (\"Mozilla/5.0 (Macintosh; Intel Mac OS X 10_10_5) AppleWebKit/537.36 (KHTML, like Gecko) Chrome/46.0.2490.80 Safari/537.36\")\n",
    "    \n",
    "    driver = webdriver.PhantomJS(desired_capabilities=dcap, executable_path=PJS_PATH)\n",
    "    driver.implicitly_wait(20)\n",
    "    driver.get(url)\n",
    "    \n",
    "    wait = WebDriverWait(driver, 20)\n",
    "    wait.until(EC.visibility_of_element_located((By.CSS_SELECTOR, \"span.CTPFVNB-v-c\")))\n",
    "    \n",
    "    s = BeautifulSoup(driver.page_source, \"lxml\")\n",
    "    \n",
    "    best_price_tags = s.find_all('div', 'CTPFVNB-w-e')\n",
    "    \n",
    "    # 데이터 가져오기 확인 - 실패 또는 중지 시 경고\n",
    "    if len(best_price_tags) < 4:\n",
    "        print('Failed to Load Page Data')\n",
    "        requests.post('https://maker.ifttt.com/trigger/fare_alert/with/key/SECURITY_KEY',\n",
    "                      data={ \"value1\" : \"script\", \"value2\" : \"failed\", \"value3\" : \"\" })\n",
    "        sys.exit(0)\n",
    "    else:\n",
    "        print('Successfully Loaded Page Data')\n",
    "    \n",
    "    best_prices = []\n",
    "    for tag in best_price_tags:\n",
    "        best_prices.append(int(tag.text.replace('$','').replace(',','')))        \n",
    "    best_price = best_prices[0]\n",
    "    \n",
    "    best_height_tags = s.find_all('div', 'CTPFVNB-w-f')\n",
    "    best_heights = []\n",
    "    for tag in best_height_tags:\n",
    "        best_heights.append(float(tag.attrs['style'].split('height:')[1].replace('px;','')))\n",
    "    best_height = best_heights[0]\n",
    "    \n",
    "    # 높이(픽셀) 대비 가격\n",
    "    pph = np.array(best_price)/np.array(best_height)\n",
    "    cities = s.findAll('div', 'CTPFVNB-w-o')\n",
    "    hlist=[]\n",
    "    for bar in cities[0].findAll('div', 'CTPFVNB-w-x'):\n",
    "    hlist.append(float(bar['style'].split('height: ')[1].replace('px;',''))*pph)\n",
    "\n",
    "    fares = pd.DataFrame(hlist, columns = ['price'])\n",
    "    px = [x for x in fares['price']]\n",
    "    ff = pd.DataFrame(px, columns = ['fare']).reset_index()\n",
    "    \n",
    "    # 클러스터링 시작\n",
    "    X = StandardScaler().fit_transform(ff)\n",
    "    db = DBSCAN(eps = 0.45, min_samples = 1).fit(X)\n",
    "\n",
    "    labels = db.labels_\n",
    "    clusters = len(set(labels))\n",
    "    \n",
    "    pf = pd.concat([ff, pd.DataFrame(db.labels_, columns = ['cluster'])], axis = 1)\n",
    "    rf = pf.groupby('cluster'['fare'].agg(['min', 'count']).sort_values('min', scending = True))\n",
    "    \n",
    "    # 규칙설정\n",
    "    # 2개 이상 클러스터 필수\n",
    "    # 클러스터의 최솟값이 최저가와 동일해야 함\n",
    "    # 클러스터의 사이즈는 1/10 미만\n",
    "    # 클러스터는 다음으로 낮은 요금의 클러스터 보다 100달러 더 낮아야 함\n",
    "    if clusters >1 and ff['fare'].min() == rf.iloc[0]['min'] and rf.iloc[0]['count'] < rf['count'].quantile(.10) and rf.iloc[0]['fare'] + 100 < rf.iloc[1]['fare']:\n",
    "        city = s.find('span', 'CTPFVNB-v-c').text\n",
    "        fare = s.find('div', 'CTPFVNB-w-e').text\n",
    "        requests.post('https://maker.ifttt.com/trigger/fare_alert/with/key/SECURITY_KEY',\n",
    "                      data={ \"value1\" : \"city\", \"value2\" : \"fare\", \"value3\" : \"\" })\n",
    "    else:\n",
    "        print('no alert triggered')\n",
    "        \n",
    "    # 코드가 매 60분마다 수행되도록 스케줄러 설정\n",
    "    \n",
    "    schedule.every(60).minutes.do(check_flights)\n",
    "\n",
    "    while 1:\n",
    "        schedule.run_pending()\n",
    "        time.sleep(1)  \n",
    "        \n"
   ]
  },
  {
   "cell_type": "code",
   "execution_count": null,
   "metadata": {
    "collapsed": true
   },
   "outputs": [],
   "source": []
  },
  {
   "cell_type": "code",
   "execution_count": null,
   "metadata": {
    "collapsed": true
   },
   "outputs": [],
   "source": []
  },
  {
   "cell_type": "code",
   "execution_count": null,
   "metadata": {
    "collapsed": true
   },
   "outputs": [],
   "source": []
  },
  {
   "cell_type": "code",
   "execution_count": null,
   "metadata": {
    "collapsed": true
   },
   "outputs": [],
   "source": []
  },
  {
   "cell_type": "code",
   "execution_count": null,
   "metadata": {
    "collapsed": true
   },
   "outputs": [],
   "source": []
  },
  {
   "cell_type": "code",
   "execution_count": null,
   "metadata": {
    "collapsed": true
   },
   "outputs": [],
   "source": []
  },
  {
   "cell_type": "code",
   "execution_count": null,
   "metadata": {
    "collapsed": true
   },
   "outputs": [],
   "source": []
  },
  {
   "cell_type": "code",
   "execution_count": null,
   "metadata": {
    "collapsed": true
   },
   "outputs": [],
   "source": []
  }
 ],
 "metadata": {
  "kernelspec": {
   "display_name": "Python 3",
   "language": "python",
   "name": "python3"
  },
  "language_info": {
   "codemirror_mode": {
    "name": "ipython",
    "version": 3
   },
   "file_extension": ".py",
   "mimetype": "text/x-python",
   "name": "python",
   "nbconvert_exporter": "python",
   "pygments_lexer": "ipython3",
   "version": "3.6.3"
  }
 },
 "nbformat": 4,
 "nbformat_minor": 2
}
